{
 "cells": [
  {
   "cell_type": "markdown",
   "metadata": {},
   "source": [
    "## Fisica molecular\n",
    "\n"
   ]
  },
  {
   "cell_type": "markdown",
   "metadata": {},
   "source": [
    "### Aproximación de Born Oppenheimer\n",
    "\n",
    "Es una hipotesis de caracter fundamental en la que se basan en la mayoria de los calculos de la fisica molecular. Esta hipotesis se basa en que los nucleos de los atomos son mucho mas pesados y que se mueven mucho mas lentamente que los electrones. Por lo tanto, los nucleos se pueden considerar como fijos en una posicion y los electrones se pueden considerar como moviendose en un potencial fijo."
   ]
  },
  {
   "cell_type": "markdown",
   "metadata": {},
   "source": [
    "### El ion de $\\text{H}_2^+$. Ligadura por tuneleo de electron. \n",
    "\n",
    "El ion de $\\text{H}_2^+$ es la forma mas simple de una molecula diatomica. Consiste en un nucleo de dos protones y un electron. El caso de dicho ion es el unico con una solucion analitica exacta. Sin embargo, a los fines de discutir las caracteristicas principales del problema, resulta util encontrar una solucion aproximada, en un enfoque perturbativo o variacional.\n",
    "\n",
    "![1.png](image-1.png)\n",
    "\n",
    "Para el problema de hallar la función de onda electronica del ion de $\\text{H}_2^+$, se proponen:\n",
    "\n",
    "- $ \\hat{H} $ el hamiltoniano del sistema.\n",
    "- $ \\psi_e $ la funcion electronica.\n",
    "\n",
    "El hamiltoniano del sistema incluye los terminos de atracción coulombiana del electron con los protones y la energia de repulsión coulombiana entre los protones.\n",
    "\n",
    "$$ \\hat{H} = -\\frac{\\hbar}{2m_e}\\nabla_r^2 - \\frac{ke^2}{|\\vec{r} + \\vec{R}/2|} - \\frac{ke^2}{|\\vec{r} - \\vec{R}/2|} + \\frac{k e^2}{\\vec{R}} $$\n",
    "\n",
    "En el marco de la aproximación de Born Oppenheimer, se considera la distancia $R$ como constante. Para un solo nucleo, centrado en el origen, la solucion de la ecuación de Schrödinger es conocida y es la funcion de onda del ion de hidrogeno. Para el estado de menor energia, las funciones de ondas seran los orbitales $\\phi_{1s}(\\vec{r - \\vec{R}/2})$ y $\\phi_{1s}(\\vec{r + \\vec{R}/2})$."
   ]
  },
  {
   "cell_type": "markdown",
   "metadata": {},
   "source": [
    "![3.png](image-3.png)"
   ]
  },
  {
   "cell_type": "markdown",
   "metadata": {},
   "source": [
    "Consideramos ahora a un electron en presencia de los dos protones. Notemos que:\n",
    "\n",
    "- Cuando el electron se encuentre en las proximidades de $\\vec{r} = \\pm \\vec{R}/2$, se espera que la funcion de onda sea aproximadamente $\\phi_{1s}(\\vec{r \\pm \\vec{R}/2})$. \n",
    "\n",
    "- Hay simetria en la funcion de onda electronica respecto a la inversion de la coordenada $\\vec{r} = 0$.\n",
    "\n",
    "Las autofunciones que satisfacen las dos condiciones anteriores son de la forma:\n",
    "\n",
    "$$ \\psi_{\\pm}(\\vec{r}) = c_{\\pm}(\\phi_{1s}(\\vec{r} + \\vec{R}/2) \\pm \\phi_{1s}(\\vec{r} - \\vec{R}/2)) $$\n",
    "\n",
    "Donde $N$ es una constante de normalización.\n",
    "\n"
   ]
  },
  {
   "cell_type": "markdown",
   "metadata": {},
   "source": [
    "Evaluemos la energia de los estados ligantes y antiligantes de la molecula de hidrogeno ionizada $\\text{H}_2^+$ en el modelo LCAO, utilizando orbitales hidrogenoides $\\phi_{1s}$.\n",
    "\n",
    "$$ E_{\\pm} = \\bra{\\psi_{\\pm}} \\hat{H} \\ket{\\psi_{\\pm}} \\quad \\quad \\text{con} \\quad \\quad \\psi_{\\pm}(\\vec{r}) = \\frac{1}{\\sqrt{N}}(\\phi_{1s}(\\vec{r} + \\vec{R}/2) \\pm \\phi_{1s}(\\vec{r} - \\vec{R}/2)) $$\n",
    "\n",
    "Denotemos:\n",
    "\n",
    "$$ \\langle{\\vec{r}}\\ket{\\phi_a} = \\phi_{1s}(\\vec{r} + \\vec{R}/2) \\quad\\quad \\langle{\\vec{r}}\\ket{\\phi_b} = \\phi_{1s}(\\vec{r} - \\vec{R}/2) $$\n",
    "\n",
    "Y:\n",
    "\n",
    "\n",
    "$$ \\hat{H} = -\\frac{\\hbar}{2m_e}\\nabla_r^2 - \\frac{ke^2}{|\\vec{r} + \\vec{R}/2|} - \\frac{ke^2}{|\\vec{r} - \\vec{R}/2|} + \\frac{k e^2}{R} = \\hat{T} + V_a + V_b + V_{R} $$\n",
    "\n",
    "\n",
    "Luego:\n",
    "\n",
    "$$ E_{\\pm} = \\frac{1}{N} \\bra{\\phi_a \\pm \\phi_b}{\\hat{H}}\\ket{\\phi_a \\pm \\phi_b} $$\n",
    "\n",
    "$$ N E_{\\pm} =  \\bra{\\phi_a}{\\hat{H}}\\ket{\\phi_a} \\pm \\bra{\\phi_a}{\\hat{H}}\\ket{\\phi_b} \\pm \\bra{\\phi_b}{\\hat{H}}\\ket{\\phi_a} + \\bra{\\phi_b}{\\hat{H}}\\ket{\\phi_b} $$\n",
    "\n",
    "Por simetria:\n",
    "\n",
    "$$ \\bra{\\phi_a}{V_b + V_R}\\ket{\\phi_a} = \\bra{\\phi_b}{V_a + V_R}\\ket{\\phi_b} $$\n",
    "$$ \\bra{\\phi_a}{V_a + V_R}\\ket{\\phi_b} = \\bra{\\phi_b}{V_b + V_R}\\ket{\\phi_a} $$\n",
    "\n",
    "Luego:\n",
    "\n",
    "$$N E_{\\pm} = \\bra{\\phi_a}\\hat{T} + V_a + V_b + V_R \\ket{\\phi_a} + \\bra{\\phi_b}\\hat{T} + V_a + V_b + V_R\\ket{\\phi_b} \\\\\n",
    "        + \\bra{\\phi_a}\\hat{T} + V_a + V_b + V_R \\ket{\\phi_b} + \\bra{\\phi_b} \\hat{T} + V_a + V_b + V_R \\ket{\\phi_a} $$\n",
    "\n",
    "$$N E_{\\pm} = \\bra{\\phi_a}\\hat{T} + V_a\\ket{\\phi_a} + \\bra{\\phi_a}V_b + V_R\\ket{\\phi_a} \\\\\n",
    "            + \\bra{\\phi_b}\\hat{T} + V_b\\ket{\\phi_b} + \\bra{\\phi_b}(V_a + V_R)\\ket{\\phi_b} \\\\\n",
    "            \\pm \\bra{\\phi_a}\\vec{T} + V_b \\ket{\\phi_b} \\pm \\bra{\\phi_a} V_a + V_R \\ket{\\phi_b} \\\\\n",
    "            \\pm \\bra{\\phi_b}\\hat{T} + V_a \\ket{\\phi_a} \\pm \\bra{\\phi_b} V_b + V_R\\ket{\\phi_a}$$\n",
    "\n",
    "Notamos tambien que:\n",
    "\n",
    "$$ \\bra{\\phi_a} \\hat{T} + V_a \\ket{\\phi_a} = \\bra{\\phi_b} \\hat{T} + V_b \\ket{\\phi_b} = E_{1s}$$\n",
    "\n",
    "Representan la integral de la interacción de un electron con un proton, es decir un atomo de hidrogeno. Y:\n",
    "\n",
    "$$ \\bra{\\phi_{a,b}} V_r \\ket{\\phi_{a,b}} = V_R \\langle{\\phi_{a,b}}\\ket{\\phi_{a,b}} = V_R$$\n",
    "\n",
    "Por otra parte:\n",
    "\n",
    "$$ \\bra{\\phi_b} \\hat{T} + V_a \\ket{\\phi_a} = \\bra{\\phi_b} E_{1s} \\ket{\\phi_a} = E_{1s} \\langle{\\phi_b} \\ket{\\phi_a}$$\n",
    "\n",
    "$$ \\bra{\\phi_a} \\hat{T} + V_b \\ket{\\phi_b} = \\bra{\\phi_a} E_{1s} \\ket{\\phi_b} = E_{1s} \\langle{\\phi_a} \\ket{\\phi_b}$$\n",
    "\n",
    "Debido a la normalización de la función de onda del hidrogeno. Denotando como $S$ a la integral de solapamiento $\\langle{\\phi_a}\\ket{\\phi_b}$, se tiene usando las igualdades anteriores:\n",
    "\n",
    "$$ N E_{\\pm} = 2E_{1s} + 2V_R \\pm 2E_{1s}S + 2V_R S + 2\\bra{\\phi_a}V_b\\ket{\\phi_a} + 2\\bra{\\phi_a}V_a\\ket{\\phi_b} $$\n",
    "$$ N E_{\\pm} = 2(1 \\pm S)(E_{1s} + V_R) + 2\\bra{\\phi_a}V_b\\ket{\\phi_a} + 2\\bra{\\phi_a}V_a\\ket{\\phi_b} $$\n",
    "\n",
    "Se deben ahora hallar las integrales de interacción entre los orbitales $\\phi_{1s}$ y los potenciales $V_a$ y $V_b$:\n",
    "\n",
    "$$ \\bra{\\phi_a}V_a\\ket{\\phi_b} = -ke^2 \\int_{\\mathbb{R}^3} \\frac{\\phi_{1s}(\\vec{r} + \\vec{R}/2)  \\phi_{1s}(\\vec{r} - \\vec{R}/2)} {|\\vec{r} - \\vec{R}/2|} d^3r $$\t\n",
    "\n",
    "$$ \\bra{\\phi_a}V_b\\ket{\\phi_a} = -ke^2 \\int_{\\mathbb{R}^3} \\frac{\\phi_{1s}(\\vec{r} + \\vec{R}/2)  \\phi_{1s}(\\vec{r} + \\vec{R}/2)} {|\\vec{r} - \\vec{R}/2|} d^3r $$"
   ]
  },
  {
   "cell_type": "markdown",
   "metadata": {},
   "source": [
    "Para resolver las integrales se proponen $\\vec{r_1} = \\vec{r} - \\frac{\\vec{R}}{2}$ , $\\vec{r_2} = \\vec{r} + \\frac{\\vec{R}}{2}$. Dada la función de onda del átomo de hidrógeno en su estado fundamental:\n",
    "\n",
    "$$\\phi_{1s}(\\vec{r}) = \\sqrt\\frac{1}{\\pi a_0 ^ 3} e^{-r/a_0} $$\n",
    "\n",
    "Con $a_0$ el radio de Bohr. Se tendra que:\n",
    "\n",
    "\n",
    "$$\\bra{\\phi_a}V_a\\ket{\\phi_b} = -ke^2 \\int_{\\mathbb{R}^3} \\frac{\\phi_{1s}(\\vec{r} + \\vec{R}/2)  \\phi_{1s}(\\vec{r} - \\vec{R}/2)} {|\\vec{r} - \\vec{R}/2|} d^3r = -\\frac{ke^2}{\\pi a_0^3}\\int_{\\mathbb{R}^3} \\frac{e^{-(r_1 + r_2)/a_0}}{r_1} d^3r$$\n",
    "\n",
    "$$\\bra{\\phi_a}V_b\\ket{\\phi_a} = -ke^2 \\int_{\\mathbb{R}^3} \\frac{\\phi_{1s}(\\vec{r} + \\vec{R}/2)  \\phi_{1s}(\\vec{r} + \\vec{R}/2)} {|\\vec{r} - \\vec{R}/2|} d^3r = -\\frac{ke^2}{\\pi a_0^3}\\int_{\\mathbb{R}^3} \\frac{e^{-2r_2/a_0}}{r_1} d^3r$$\n",
    "\n",
    "Se considera el sistema de coordenadas elipsoidales $(u,v,\\varphi)$, como:\n",
    "\n",
    "$$u = \\frac{r_1 + r_2}{R} \\quad\\quad v = \\frac{r_1 - r_2}{R} \\quad\\quad d^3r = \\frac{1}{8}R^3(u^2 - v^2)du dv d\\varphi$$\n",
    "\n",
    "Con $u \\ge 1$, $-1 \\le v \\le 1$ y $0 \\le \\varphi \\le 2\\pi$. Se tiene entonces:\n",
    "\n",
    "\n",
    "$$\\bra{\\phi_a}V_a\\ket{\\phi_b}  = -\\frac{ke^2}{\\pi a_0^3} \\frac{R^3}{8} \\int_{0}^{2\\pi} \\int_{1}^{\\infty} \\int_{-1}^{1}  \\frac{e^{-uR/a_0}}{R(u - v)/2}(u^2-v^2) d\\varphi du dv = -\\frac{ke^2 R^2}{2 a_0^3} \\int_{1}^{\\infty} \\int_{-1}^{1} (u - v) e^{-uR/a_0} du dv$$\n",
    "$$ = -\\frac{ke^2 R^2}{a_0^3} \\int_{1}^{\\infty} u e^{-uR/a} du = -\\frac{ke^2 R^2}{a_0^3} (\\frac{ua_0}{R} e^{-uR/a_0}) \\Big|_1^{\\infty} + \\frac{ke^2 R^2}{a_0^3} \\int_{1}^{\\infty} \\frac{a_0}{R} e^{-uR/a_0} du$$ \n",
    "$$ = \\frac{ke^2}{a_0}(\\frac{R}{a_0} + 1) e^{-R/a_0}$$\n",
    "\n",
    "$$\\bra{\\phi_a}V_b\\ket{\\phi_a} = -\\frac{ke^2}{a_o^3} \\frac{R^3}{8}  \\int_{0}^{2\\pi} \\int_{1}^{\\infty} \\int_{-1}^{1} \\frac{e^{-(u-v)R/a_0}}{R(u + v)/2}(u^2-v^2) d\\varphi du dv = -\\frac{ke^2 R^2}{2a_0^3} \\int_{1}^{\\infty} \\int_{-1}^{1} (u-v)e^{-(u-v)R/a_0} du dv$$\n",
    "$$ =  -\\frac{ke^2 R^2}{2a_0^3} () $$"
   ]
  },
  {
   "cell_type": "markdown",
   "metadata": {},
   "source": []
  },
  {
   "cell_type": "markdown",
   "metadata": {},
   "source": []
  },
  {
   "cell_type": "markdown",
   "metadata": {},
   "source": [
    "### La molecula de $\\text{H}_2$. Ligadura covalente y teoria de Heitler y London.\n",
    "\n",
    "El siguiente paso en orden de complejidad, luego del estudio del ion $\\text{H}_2^+$, es el estudio de la molecula de $\\text{H}_2$. En este caso, se consideran dos nucleos de hidrogeno y dos electrones.\n",
    "\n"
   ]
  },
  {
   "cell_type": "markdown",
   "metadata": {},
   "source": []
  },
  {
   "cell_type": "code",
   "execution_count": 4,
   "metadata": {},
   "outputs": [
    {
     "name": "stdout",
     "output_type": "stream",
     "text": [
      "3\n"
     ]
    }
   ],
   "source": [
    "from sqlalchemy"
   ]
  },
  {
   "cell_type": "code",
   "execution_count": null,
   "metadata": {},
   "outputs": [],
   "source": []
  }
 ],
 "metadata": {
  "kernelspec": {
   "display_name": "torch",
   "language": "python",
   "name": "python3"
  },
  "language_info": {
   "codemirror_mode": {
    "name": "ipython",
    "version": 3
   },
   "file_extension": ".py",
   "mimetype": "text/x-python",
   "name": "python",
   "nbconvert_exporter": "python",
   "pygments_lexer": "ipython3",
   "version": "3.12.4"
  }
 },
 "nbformat": 4,
 "nbformat_minor": 2
}
