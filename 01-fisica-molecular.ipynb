{
 "cells": [
  {
   "cell_type": "markdown",
   "metadata": {},
   "source": [
    "## Fisica molecular\n",
    "\n"
   ]
  },
  {
   "cell_type": "markdown",
   "metadata": {},
   "source": [
    "### Aproximación de Born Oppenheimer\n",
    "\n",
    "Es una hipotesis de caracter fundamental en la que se basan en la mayoria de los calculos de la fisica molecular. Esta hipotesis se basa en que los nucleos de los atomos son mucho mas pesados y que se mueven mucho mas lentamente que los electrones. Por lo tanto, los nucleos se pueden considerar como fijos en una posicion y los electrones se pueden considerar como moviendose en un potencial fijo."
   ]
  },
  {
   "cell_type": "markdown",
   "metadata": {},
   "source": [
    "### El ion de $\\text{H}_2^+$. Ligadura por tuneleo de electron. \n",
    "\n",
    "El ion de $\\text{H}_2^+$ es la forma mas simple de una molecula diatomica. Consiste en un nucleo de dos protones y un electron. El caso de dicho ion es el unico con una solucion analitica exacta. Sin embargo, a los fines de discutir las caracteristicas principales del problema, resulta util encontrar una solucion aproximada, en un enfoque perturbativo o variacional.\n",
    "\n",
    "![1.png](image.png)\n",
    "\n",
    "Para el problema de hallar la función de onda electronica del ion de $\\text{H}_2^+$, se proponen:\n",
    "\n",
    "- $ \\hat{H} $ el hamiltoniano del sistema.\n",
    "- $ \\psi_e $ la funcion electronica.\n",
    "\n",
    "El hamiltoniano del sistema incluye los terminos de atracción coulombiana del electron con los protones y la energia de repulsión coulombiana entre los protones.\n",
    "\n",
    "$$ \\hat{H} = -\\frac{\\hbar}{2m_e}\\nabla_r^2 - \\frac{ke^2}{|\\vec{r} + \\vec{R}/2|} - \\frac{ke^2}{|\\vec{r} - \\vec{R}/2|} + \\frac{k e^2}{\\vec{R}} $$\n",
    "\n",
    "En el marco de la aproximación de Born Oppenheimer, se considera la distancia $R$ como constante. Para un solo nucleo, centrado en el origen, la solucion de la ecuación de Schrödinger es conocida y es la funcion de onda del ion de hidrogeno. Para el estado de menor energia, las funciones de ondas seran los orbitales $\\phi_{1s}(\\vec{r - \\vec{R}/2})$ y $\\phi_{1s}(\\vec{r + \\vec{R}/2})$."
   ]
  },
  {
   "cell_type": "markdown",
   "metadata": {},
   "source": [
    "![3.png](3.png)"
   ]
  },
  {
   "cell_type": "markdown",
   "metadata": {},
   "source": [
    "Consideramos ahora a un electron en presencia de los dos protones. Notemos que:\n",
    "\n",
    "- Cuando el electron se encuentre en las proximidades de $\\vec{r} = \\pm \\vec{R}/2$, se espera que la funcion de onda sea aproximadamente $\\phi_{1s}(\\vec{r \\pm \\vec{R}/2})$. \n",
    "\n",
    "- Hay simetria en la funcion de onda electronica respecto a la inversion de la coordenada $\\vec{r} = 0$.\n",
    "\n",
    "Las autofunciones que satisfacen las dos condiciones anteriores son de la forma:\n",
    "\n",
    "$$ \\psi_{\\pm}(\\vec{r}) = c_{\\pm}(\\phi_{1s}(\\vec{r} + \\vec{R}/2) \\pm \\phi_{1s}(\\vec{r} - \\vec{R}/2)) $$\n",
    "\n",
    "Donde $N$ es una constante de normalización.\n",
    "\n"
   ]
  },
  {
   "cell_type": "markdown",
   "metadata": {},
   "source": [
    "Evaluemos la energia de los estados ligantes y antiligantes de la molecula de hidrogeno ionizada $\\text{H}_2^+$ en el modelo LCAO, utilizando orbitales hidrogenoides 1s.\n",
    "\n",
    "$$ E_{\\pm} = \\bra{\\psi_{\\pm}} \\hat{H} \\ket{\\psi_{\\pm}} $$\n",
    "\n",
    "$$ E_{\\pm} = \\bra{\\phi_{1s}(\\vec{r} + \\vec{R}/2) \\pm \\phi_{1s}(\\vec{r} - \\vec{R}/2)} \\hat{H} \\ket{\\phi_{1s}(\\vec{r} + \\vec{R}/2) \\pm \\phi_{1s}(\\vec{r} - \\vec{R}/2)} $$\n",
    "\n",
    "Por simetria:\n",
    "\n",
    "$$ \\bra{\\phi_{1s}(\\vec{r} + \\vec{R}/2)} \\hat{H} \\ket{\\phi_{1s}(\\vec{r} + \\vec{R}/2)} = \\bra{\\phi_{1s}(\\vec{r} - \\vec{R}/2)} \\hat{H} \\ket{\\phi_{1s}(\\vec{r} - \\vec{R}/2)} $$\n"
   ]
  },
  {
   "cell_type": "markdown",
   "metadata": {},
   "source": []
  },
  {
   "cell_type": "code",
   "execution_count": null,
   "metadata": {},
   "outputs": [],
   "source": []
  },
  {
   "cell_type": "code",
   "execution_count": null,
   "metadata": {},
   "outputs": [],
   "source": [
    "from typing import Annotated\n",
    "from typing import Sequence\n",
    "\n",
    "class Column(Annotated):\n",
    "    ...\n",
    "\n",
    "def Table(columns: Sequence[Column]):\n",
    "    print(columns)   "
   ]
  }
 ],
 "metadata": {
  "kernelspec": {
   "display_name": "torch",
   "language": "python",
   "name": "python3"
  },
  "language_info": {
   "name": "python",
   "version": "3.12.4"
  }
 },
 "nbformat": 4,
 "nbformat_minor": 2
}
