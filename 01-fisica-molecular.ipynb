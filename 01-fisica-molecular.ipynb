{
 "cells": [
  {
   "cell_type": "markdown",
   "metadata": {},
   "source": [
    "## Fisica molecular\n",
    "\n"
   ]
  },
  {
   "cell_type": "markdown",
   "metadata": {},
   "source": [
    "### Aproximación de Born Oppenheimer\n",
    "\n",
    "Es una hipotesis de caracter fundamental en la que se basan en la mayoria de los calculos de la fisica molecular. Esta hipotesis se basa en que los nucleos de los atomos son mucho mas pesados y que se mueven mucho mas lentamente que los electrones. Por lo tanto, los nucleos se pueden considerar como fijos en una posicion y los electrones se pueden considerar como moviendose en un potencial fijo."
   ]
  },
  {
   "cell_type": "markdown",
   "metadata": {},
   "source": [
    "### El ion de $\\text{H}_2^+$. Ligadura por tuneleo de electron. \n",
    "\n",
    "El ion de $\\text{H}_2^+$ es la forma mas simple de una molecula diatomica. Consiste en un nucleo de dos protones y un electron. El caso de dicho ion es el unico con una solucion analitica exacta. Sin embargo, a los fines de discutir las caracteristicas principales del problema, resulta util encontrar una solucion aproximada, en un enfoque perturbativo o variacional.\n",
    "\n",
    "![1.png](1.png)\n",
    "\n",
    "Para el problema de hallar la función de onda electronica del ion de $\\text{H}_2^+$, se proponen:\n",
    "\n",
    "- $ \\hat{H} $ el hamiltoniano del sistema.\n",
    "- $ \\psi_e $ la funcion electronica.\n",
    "\n",
    "El hamiltoniano del sistema incluye los terminos de atracción coulombiana del electron con los protones y la energia de repulsión coulombiana entre los protones.\n",
    "\n",
    "$$ \\hat{H} = -\\frac{\\hbar}{2m_e}\\nabla_r^2 - \\frac{ke^2}{|\\vec{r} + \\vec{R}/2|} - \\frac{ke^2}{|\\vec{r} - \\vec{R}/2|} + \\frac{k e^2}{\\vec{R}} $$\n",
    "\n",
    "En el marco de la aproximación de Born Oppenheimer, se considera la distancia $R$ como constante. Para un solo nucleo, centrado en el origen, la solucion de la ecuación de Schrödinger es conocida y es la funcion de onda del ion de hidrogeno. Para el estado de menor energia, las funciones de ondas seran los orbitales $\\phi_{1s}(\\vec{r - \\vec{R}/2})$ y $\\phi_{1s}(\\vec{r + \\vec{R}/2})$."
   ]
  },
  {
   "cell_type": "markdown",
   "metadata": {},
   "source": [
    "![3.png](3.png)"
   ]
  },
  {
   "cell_type": "markdown",
   "metadata": {},
   "source": [
    "Consideramos ahora a un electron en presencia de los dos protones. Notemos que:\n",
    "\n",
    "- Cuando el electron se encuentre en las proximidades de $\\vec{r} = \\pm \\vec{R}/2$, se espera que la funcion de onda sea aproximadamente $\\phi_{1s}(\\vec{r \\pm \\vec{R}/2})$. \n",
    "\n",
    "- Hay simetria en la funcion de onda electronica respecto a la inversion de la coordenada $\\vec{r} = 0$.\n",
    "\n",
    "Las autofunciones que satisfacen las dos condiciones anteriores son de la forma:\n",
    "\n",
    "$$ \\psi_{\\pm}(\\vec{r}) = c_{\\pm}(\\phi_{1s}(\\vec{r} + \\vec{R}/2) \\pm \\phi_{1s}(\\vec{r} - \\vec{R}/2)) $$\n",
    "\n",
    "Donde $N$ es una constante de normalización.\n",
    "\n"
   ]
  },
  {
   "cell_type": "markdown",
   "metadata": {},
   "source": [
    "Evaluemos la energia de los estados ligantes y antiligantes de la molecula de hidrogeno ionizada $\\text{H}_2^+$ en el modelo LCAO, utilizando orbitales hidrogenoides $\\phi_{1s}$.\n",
    "\n",
    "$$ E_{\\pm} = \\bra{\\psi_{\\pm}} \\hat{H} \\ket{\\psi_{\\pm}} \\quad \\quad \\text{con} \\quad \\quad \\psi_{\\pm}(\\vec{r}) = \\frac{1}{\\sqrt{N}}(\\phi_{1s}(\\vec{r} + \\vec{R}/2) \\pm \\phi_{1s}(\\vec{r} - \\vec{R}/2)) $$\n",
    "\n",
    "Denotemos:\n",
    "\n",
    "$$ \\langle{\\vec{r}}\\ket{\\phi_a} = \\phi_{1s}(\\vec{r} + \\vec{R}/2) \\quad\\quad \\langle{\\vec{r}}\\ket{\\phi_b} = \\phi_{1s}(\\vec{r} - \\vec{R}/2) $$\n",
    "\n",
    "Y:\n",
    "\n",
    "\n",
    "$$ \\hat{H} = -\\frac{\\hbar}{2m_e}\\nabla_r^2 - \\frac{ke^2}{|\\vec{r} + \\vec{R}/2|} - \\frac{ke^2}{|\\vec{r} - \\vec{R}/2|} + \\frac{k e^2}{R} = \\hat{T} + V_a + V_b + V_{R} $$\n",
    "\n",
    "\n",
    "Luego:\n",
    "\n",
    "$$ E_{\\pm} = \\frac{1}{N} \\bra{\\phi_a \\pm \\phi_b}{\\hat{H}}\\ket{\\phi_a \\pm \\phi_b} $$\n",
    "\n",
    "$$ N E_{\\pm} =  \\bra{\\phi_a}{\\hat{H}}\\ket{\\phi_a} \\pm \\bra{\\phi_a}{\\hat{H}}\\ket{\\phi_b} \\pm \\bra{\\phi_b}{\\hat{H}}\\ket{\\phi_a} + \\bra{\\phi_b}{\\hat{H}}\\ket{\\phi_b} $$\n",
    "\n",
    "Por simetria:\n",
    "\n",
    "$$ \\bra{\\phi_a}{V_b + V_R}\\ket{\\phi_a} = \\bra{\\phi_b}{V_a + V_R}\\ket{\\phi_b} $$\n",
    "$$ \\bra{\\phi_a}{V_a + V_R}\\ket{\\phi_b} = \\bra{\\phi_b}{V_b + V_R}\\ket{\\phi_a} $$\n",
    "\n",
    "Luego:\n",
    "\n",
    "$$N E_{\\pm} = \\bra{\\phi_a}\\hat{T} + V_a + V_b + V_R \\ket{\\phi_a} + \\bra{\\phi_b}\\hat{T} + V_a + V_b + V_R\\ket{\\phi_b} \\\\\n",
    "        + \\bra{\\phi_a}\\hat{T} + V_a + V_b + V_R \\ket{\\phi_b} + \\bra{\\phi_b} \\hat{T} + V_a + V_b + V_R \\ket{\\phi_a} $$\n",
    "\n",
    "$$N E_{\\pm} = \\bra{\\phi_a}\\hat{T} + V_a\\ket{\\phi_a} + \\bra{\\phi_a}V_b + V_R\\ket{\\phi_a} \\\\\n",
    "            + \\bra{\\phi_b}\\hat{T} + V_b\\ket{\\phi_b} + \\bra{\\phi_b}(V_a + V_R)\\ket{\\phi_b} \\\\\n",
    "            \\pm \\bra{\\phi_a}\\vec{T} + V_R \\ket{\\phi_b} \\pm \\bra{\\phi_a} V_b + V_R \\ket{\\phi_b} \\\\\n",
    "            \\pm \\bra{\\phi_b}\\hat{T} + V_a \\ket{\\phi_a} \\pm \\bra{\\phi_b} V_a + V_R\\ket{\\phi_a}$$\n",
    "\n",
    "Notamos tambien que:\n",
    "\n",
    "$$ \\bra{\\phi_a} \\hat{T} + V_a \\ket{\\phi_a} = \\bra{\\phi_b} \\hat{T} + V_b \\ket{\\phi_b} = E_{1s}$$\n",
    "\n",
    "Representan la integral de la interacción de un electron con un proton, es decir un atomo de hidrogeno. Y:\n",
    "\n",
    "$$ \\bra{\\phi_{a,b}} V_r \\ket{\\phi_{a,b}} = V_R \\langle{\\phi_{a,b}}\\ket{\\phi_{a,b}} = V_R$$\n",
    "\n",
    "Por otra parte:\n",
    "\n",
    "$$ \\bra{\\phi_b} \\hat{T} + V_a \\ket{\\phi_a} = \\bra{\\phi_b} E_{1s} \\ket{\\phi_a} = E_{1s} \\langle{\\phi_b} \\ket{\\phi_a}$$\n",
    "\n",
    "$$ \\bra\n",
    "\n",
    "$$ $$\n",
    "\n",
    "Debido a la normalización de la función de onda del hidrogeno. Usando las igualdades anteriores:\n",
    "\n",
    "$$ N E_{\\pm} = 2E_{1s} + 2V_R"
   ]
  },
  {
   "cell_type": "markdown",
   "metadata": {},
   "source": []
  }
 ],
 "metadata": {
  "kernelspec": {
   "display_name": "torch",
   "language": "python",
   "name": "python3"
  },
  "language_info": {
   "codemirror_mode": {
    "name": "ipython",
    "version": 3
   },
   "file_extension": ".py",
   "mimetype": "text/x-python",
   "name": "python",
   "nbconvert_exporter": "python",
   "pygments_lexer": "ipython3",
   "version": "3.12.4"
  }
 },
 "nbformat": 4,
 "nbformat_minor": 2
}
